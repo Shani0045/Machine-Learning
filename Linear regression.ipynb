{
 "cells": [
  {
   "cell_type": "code",
   "execution_count": 1,
   "metadata": {},
   "outputs": [],
   "source": [
    "import numpy as np\n",
    "from numpy import mean\n",
    "from math import*\n",
    "import matplotlib.pyplot as plt\n",
    "plt.style.use('ggplot')"
   ]
  },
  {
   "cell_type": "code",
   "execution_count": 2,
   "metadata": {},
   "outputs": [],
   "source": [
    "# x=np.array([1,2,3,4,5])\n",
    "# # # y=np.array([2,4,6,8,10])\n",
    "# # # y=np.array([10,8,6,4,2])\n",
    "# y=np.array([1,3,9,2,4])\n"
   ]
  },
  {
   "cell_type": "code",
   "execution_count": 3,
   "metadata": {},
   "outputs": [],
   "source": [
    "x=np.array([1,2,3,4,5,6,7,8,9,10])\n",
    "y=np.array([2,4,6,8,10,12,14,16,18,20])\n",
    "#agla 5 y chahiye but x nhi pta "
   ]
  },
  {
   "cell_type": "code",
   "execution_count": 4,
   "metadata": {},
   "outputs": [],
   "source": [
    "x_mean=np.mean(x)\n",
    "y_mean=np.mean(y)\n",
    "xy_mean=np.mean(x*y)\n",
    "xmeansqre=pow(x_mean,2)\n",
    "xsqremean=np.mean(x**2)\n",
    "\n",
    "# print(x_mean,y_mean,xy_mean,xmeansqre,xsqremean)"
   ]
  },
  {
   "cell_type": "code",
   "execution_count": 18,
   "metadata": {},
   "outputs": [],
   "source": [
    "# def lin(x,y):\n",
    "#     m=((x_mean*y_mean)-xy_mean)/(xmeansqre-xsqremean)\n",
    "#     c=y_mean-m*x_mean\n",
    "#     return(m,c)\n",
    "# print(lin(x,y))\n"
   ]
  },
  {
   "cell_type": "code",
   "execution_count": 19,
   "metadata": {},
   "outputs": [],
   "source": [
    "# from numpy import mean,array"
   ]
  },
  {
   "cell_type": "code",
   "execution_count": 20,
   "metadata": {},
   "outputs": [],
   "source": [
    "# x=np.array([1,2,3,4,5])\n",
    "# y=np.array([10,8,6,4,2])"
   ]
  },
  {
   "cell_type": "code",
   "execution_count": 21,
   "metadata": {},
   "outputs": [
    {
     "data": {
      "text/plain": [
       "(2.0, 0.0)"
      ]
     },
     "execution_count": 21,
     "metadata": {},
     "output_type": "execute_result"
    }
   ],
   "source": [
    "def lin(dx,dy):\n",
    "    m=((mean(dx)*mean(dy))-mean(dx*dy))/(((mean(dx))**2)-mean(dx**2))\n",
    "    c=mean(dy)-(m*mean(dx))\n",
    "    return m,c\n",
    "lin(x,y)"
   ]
  },
  {
   "cell_type": "code",
   "execution_count": 22,
   "metadata": {},
   "outputs": [],
   "source": [
    "m,c=lin(x,y)"
   ]
  },
  {
   "cell_type": "code",
   "execution_count": 23,
   "metadata": {},
   "outputs": [],
   "source": [
    "ry=[m*i+c for i in x] #regression y"
   ]
  },
  {
   "cell_type": "code",
   "execution_count": 24,
   "metadata": {},
   "outputs": [
    {
     "name": "stdout",
     "output_type": "stream",
     "text": [
      "0.0 330.0\n"
     ]
    }
   ],
   "source": [
    "s=sum((ry-y)**2)\n",
    "r=sum((y_mean-y)**2)\n",
    "print(s,r)"
   ]
  },
  {
   "cell_type": "code",
   "execution_count": 25,
   "metadata": {},
   "outputs": [
    {
     "data": {
      "text/plain": [
       "1.0"
      ]
     },
     "execution_count": 25,
     "metadata": {},
     "output_type": "execute_result"
    }
   ],
   "source": [
    "\n"
   ]
  },
  {
   "cell_type": "code",
   "execution_count": 26,
   "metadata": {},
   "outputs": [
    {
     "data": {
      "image/png": "[encoded data removed]",
      "text/plain": [
       "<Figure size 432x288 with 1 Axes>"
      ]
     },
     "metadata": {
      "needs_background": "light"
     },
     "output_type": "display_data"
    }
   ],
   "source": [
    "plt.scatter(x,y,marker='X',s=150)\n",
    "plt.plot(x,ry,\"--\")\n",
    "plt.plot(x,[mean(y) for _ in x],\":\")\n",
    "plt.show()"
   ]
  },
  {
   "cell_type": "code",
   "execution_count": null,
   "metadata": {},
   "outputs": [],
   "source": []
  },
  {
   "cell_type": "code",
   "execution_count": 36,
   "metadata": {},
   "outputs": [],
   "source": [
    "x1=x[:5]\n",
    "x2=x[5:]\n",
    "y1=y[5:]\n",
    "m,c=lin(x1,y1)"
   ]
  },
  {
   "cell_type": "code",
   "execution_count": 37,
   "metadata": {},
   "outputs": [
    {
     "name": "stdout",
     "output_type": "stream",
     "text": [
      "22.0 6\n",
      "24.0 7\n",
      "26.0 8\n",
      "28.0 9\n",
      "30.0 10\n"
     ]
    }
   ],
   "source": [
    "for i in x2:\n",
    "    print(m*i+c,i)"
   ]
  },
  {
   "cell_type": "code",
   "execution_count": null,
   "metadata": {},
   "outputs": [],
   "source": []
  },
  {
   "cell_type": "code",
   "execution_count": null,
   "metadata": {},
   "outputs": [],
   "source": []
  },
  {
   "cell_type": "code",
   "execution_count": null,
   "metadata": {},
   "outputs": [],
   "source": []
  }
 ],
 "metadata": {
  "kernelspec": {
   "display_name": "Python 3",
   "language": "python",
   "name": "python3"
  },
  "language_info": {
   "codemirror_mode": {
    "name": "ipython",
    "version": 3
   },
   "file_extension": ".py",
   "mimetype": "text/x-python",
   "name": "python",
   "nbconvert_exporter": "python",
   "pygments_lexer": "ipython3",
   "version": "3.6.5"
  }
 },
 "nbformat": 4,
 "nbformat_minor": 2
}
