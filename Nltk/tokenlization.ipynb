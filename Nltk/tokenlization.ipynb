{
 "cells": [
  {
   "cell_type": "code",
   "execution_count": 8,
   "metadata": {},
   "outputs": [],
   "source": [
    "from nltk.tokenize import word_tokenize,sent_tokenize"
   ]
  },
  {
   "cell_type": "code",
   "execution_count": 9,
   "metadata": {},
   "outputs": [],
   "source": [
    "data = \"Android is a mobile operating system developed by Google, based on a modified version of the Linux kernel and other open source software and designed primarily for touchscreen mobile devices such as smartphones and tablets. In addition, Google has further developed Android TV for televisions, Android Auto for cars, and Wear OS for wrist watches, each with a specialized user interface. Variants of Android are also used on game consoles, digital cameras, PCs and other electronics.Initially developed by Android Inc., which Google bought in 2005, Android was unveiled in 2007, with the first commercial Android device launched in September 2008. The operating system has since gone through multiple major releases, with the current version being 9 'Pie', released in August 2018. The core Android source code is known as Android Open Source Project (AOSP), and is primarily licensed under the Apache License.\""
   ]
  },
  {
   "cell_type": "code",
   "execution_count": 10,
   "metadata": {},
   "outputs": [
    {
     "data": {
      "text/plain": [
       "\"Android is a mobile operating system developed by Google, based on a modified version of the Linux kernel and other open source software and designed primarily for touchscreen mobile devices such as smartphones and tablets. In addition, Google has further developed Android TV for televisions, Android Auto for cars, and Wear OS for wrist watches, each with a specialized user interface. Variants of Android are also used on game consoles, digital cameras, PCs and other electronics.Initially developed by Android Inc., which Google bought in 2005, Android was unveiled in 2007, with the first commercial Android device launched in September 2008. The operating system has since gone through multiple major releases, with the current version being 9 'Pie', released in August 2018. The core Android source code is known as Android Open Source Project (AOSP), and is primarily licensed under the Apache License.\""
      ]
     },
     "execution_count": 10,
     "metadata": {},
     "output_type": "execute_result"
    }
   ],
   "source": [
    "data"
   ]
  },
  {
   "cell_type": "code",
   "execution_count": 11,
   "metadata": {},
   "outputs": [
    {
     "data": {
      "text/plain": [
       "['Android',\n",
       " 'is',\n",
       " 'a',\n",
       " 'mobile',\n",
       " 'operating',\n",
       " 'system',\n",
       " 'developed',\n",
       " 'by',\n",
       " 'Google',\n",
       " ',',\n",
       " 'based',\n",
       " 'on',\n",
       " 'a',\n",
       " 'modified',\n",
       " 'version',\n",
       " 'of',\n",
       " 'the',\n",
       " 'Linux',\n",
       " 'kernel',\n",
       " 'and',\n",
       " 'other',\n",
       " 'open',\n",
       " 'source',\n",
       " 'software',\n",
       " 'and',\n",
       " 'designed',\n",
       " 'primarily',\n",
       " 'for',\n",
       " 'touchscreen',\n",
       " 'mobile',\n",
       " 'devices',\n",
       " 'such',\n",
       " 'as',\n",
       " 'smartphones',\n",
       " 'and',\n",
       " 'tablets',\n",
       " '.',\n",
       " 'In',\n",
       " 'addition',\n",
       " ',',\n",
       " 'Google',\n",
       " 'has',\n",
       " 'further',\n",
       " 'developed',\n",
       " 'Android',\n",
       " 'TV',\n",
       " 'for',\n",
       " 'televisions',\n",
       " ',',\n",
       " 'Android',\n",
       " 'Auto',\n",
       " 'for',\n",
       " 'cars',\n",
       " ',',\n",
       " 'and',\n",
       " 'Wear',\n",
       " 'OS',\n",
       " 'for',\n",
       " 'wrist',\n",
       " 'watches',\n",
       " ',',\n",
       " 'each',\n",
       " 'with',\n",
       " 'a',\n",
       " 'specialized',\n",
       " 'user',\n",
       " 'interface',\n",
       " '.',\n",
       " 'Variants',\n",
       " 'of',\n",
       " 'Android',\n",
       " 'are',\n",
       " 'also',\n",
       " 'used',\n",
       " 'on',\n",
       " 'game',\n",
       " 'consoles',\n",
       " ',',\n",
       " 'digital',\n",
       " 'cameras',\n",
       " ',',\n",
       " 'PCs',\n",
       " 'and',\n",
       " 'other',\n",
       " 'electronics.Initially',\n",
       " 'developed',\n",
       " 'by',\n",
       " 'Android',\n",
       " 'Inc.',\n",
       " ',',\n",
       " 'which',\n",
       " 'Google',\n",
       " 'bought',\n",
       " 'in',\n",
       " '2005',\n",
       " ',',\n",
       " 'Android',\n",
       " 'was',\n",
       " 'unveiled',\n",
       " 'in',\n",
       " '2007',\n",
       " ',',\n",
       " 'with',\n",
       " 'the',\n",
       " 'first',\n",
       " 'commercial',\n",
       " 'Android',\n",
       " 'device',\n",
       " 'launched',\n",
       " 'in',\n",
       " 'September',\n",
       " '2008',\n",
       " '.',\n",
       " 'The',\n",
       " 'operating',\n",
       " 'system',\n",
       " 'has',\n",
       " 'since',\n",
       " 'gone',\n",
       " 'through',\n",
       " 'multiple',\n",
       " 'major',\n",
       " 'releases',\n",
       " ',',\n",
       " 'with',\n",
       " 'the',\n",
       " 'current',\n",
       " 'version',\n",
       " 'being',\n",
       " '9',\n",
       " \"'Pie\",\n",
       " \"'\",\n",
       " ',',\n",
       " 'released',\n",
       " 'in',\n",
       " 'August',\n",
       " '2018',\n",
       " '.',\n",
       " 'The',\n",
       " 'core',\n",
       " 'Android',\n",
       " 'source',\n",
       " 'code',\n",
       " 'is',\n",
       " 'known',\n",
       " 'as',\n",
       " 'Android',\n",
       " 'Open',\n",
       " 'Source',\n",
       " 'Project',\n",
       " '(',\n",
       " 'AOSP',\n",
       " ')',\n",
       " ',',\n",
       " 'and',\n",
       " 'is',\n",
       " 'primarily',\n",
       " 'licensed',\n",
       " 'under',\n",
       " 'the',\n",
       " 'Apache',\n",
       " 'License',\n",
       " '.']"
      ]
     },
     "execution_count": 11,
     "metadata": {},
     "output_type": "execute_result"
    }
   ],
   "source": [
    "word_tokenize(data)"
   ]
  },
  {
   "cell_type": "code",
   "execution_count": 12,
   "metadata": {},
   "outputs": [
    {
     "data": {
      "text/plain": [
       "['Android is a mobile operating system developed by Google, based on a modified version of the Linux kernel and other open source software and designed primarily for touchscreen mobile devices such as smartphones and tablets.',\n",
       " 'In addition, Google has further developed Android TV for televisions, Android Auto for cars, and Wear OS for wrist watches, each with a specialized user interface.',\n",
       " 'Variants of Android are also used on game consoles, digital cameras, PCs and other electronics.Initially developed by Android Inc., which Google bought in 2005, Android was unveiled in 2007, with the first commercial Android device launched in September 2008.',\n",
       " \"The operating system has since gone through multiple major releases, with the current version being 9 'Pie', released in August 2018.\",\n",
       " 'The core Android source code is known as Android Open Source Project (AOSP), and is primarily licensed under the Apache License.']"
      ]
     },
     "execution_count": 12,
     "metadata": {},
     "output_type": "execute_result"
    }
   ],
   "source": [
    "sent_tokenize(data)"
   ]
  },
  {
   "cell_type": "code",
   "execution_count": null,
   "metadata": {},
   "outputs": [],
   "source": []
  }
 ],
 "metadata": {
  "kernelspec": {
   "display_name": "Python 3",
   "language": "python",
   "name": "python3"
  },
  "language_info": {
   "codemirror_mode": {
    "name": "ipython",
    "version": 3
   },
   "file_extension": ".py",
   "mimetype": "text/x-python",
   "name": "python",
   "nbconvert_exporter": "python",
   "pygments_lexer": "ipython3",
   "version": "3.6.5"
  }
 },
 "nbformat": 4,
 "nbformat_minor": 2
}
