{
 "cells": [
  {
   "cell_type": "code",
   "execution_count": 26,
   "metadata": {},
   "outputs": [],
   "source": [
    "from nltk.tokenize import word_tokenize\n",
    "from nltk.corpus import stopwords"
   ]
  },
  {
   "cell_type": "code",
   "execution_count": 27,
   "metadata": {},
   "outputs": [],
   "source": [
    "sent=\"this is an exampl showing off stopword filteration.\""
   ]
  },
  {
   "cell_type": "code",
   "execution_count": 28,
   "metadata": {},
   "outputs": [
    {
     "name": "stdout",
     "output_type": "stream",
     "text": [
      "{'i', 'between', 'their', 'all', 'at', \"hasn't\", \"isn't\", 'where', 'you', 'yourself', 'the', 'during', 'his', 'few', 'out', 'had', 'if', \"that'll\", 'as', 'themselves', 'down', 'very', 'those', 'ourselves', 'haven', \"shan't\", 'couldn', 've', 'm', 'don', 'isn', 'then', \"haven't\", 'are', 'needn', 'on', \"you've\", 'than', 'who', 'we', 'should', 'above', 'doesn', 'what', 'being', \"she's\", 'because', 'have', 'were', 'some', 'can', \"it's\", 'she', 'but', 'against', 'ain', 'too', 'wasn', 'mightn', \"didn't\", 'theirs', 'it', 'will', 'which', 'no', 'has', 'wouldn', 'doing', 'after', 'only', 'does', 'yourselves', 'about', 'be', 'to', 'is', \"wouldn't\", \"mustn't\", 'by', 'hadn', 'that', 'its', \"should've\", 'ours', 'under', 'shan', 'not', \"aren't\", 'before', 'him', 'my', 'below', 'so', 'he', 's', \"wasn't\", \"don't\", 't', 'further', 'once', 'same', 'was', 'and', 'why', 'just', 'off', 'shouldn', \"couldn't\", 'did', 'until', 'of', 'himself', 'there', 'a', 'herself', 'whom', \"won't\", 'hers', 'didn', \"needn't\", 'most', 'here', 'o', 'into', 'now', 'ma', 'mustn', 'her', 'they', 'up', 'nor', 'itself', \"you'll\", \"you're\", 'in', 'our', 'any', 'own', 'am', 're', 'with', \"shouldn't\", 'more', \"weren't\", 'been', 'or', 'aren', 'd', 'myself', 'your', 'this', 'hasn', 'y', 'yours', 'these', 'both', 'from', 'how', 'weren', 'over', \"you'd\", 'while', 'll', 'when', 'having', 'me', 'other', 'them', 'an', 'such', 'do', 'again', 'for', \"doesn't\", \"hadn't\", 'each', 'won', \"mightn't\", 'through'}\n"
     ]
    }
   ],
   "source": [
    "stopwords=set(stopwords.words(\"english\"))\n",
    "print(stopwords)"
   ]
  },
  {
   "cell_type": "code",
   "execution_count": 37,
   "metadata": {},
   "outputs": [],
   "source": [
    "words=word_tokenize(sent)\n",
    "filtered_sent=[]"
   ]
  },
  {
   "cell_type": "code",
   "execution_count": 39,
   "metadata": {},
   "outputs": [
    {
     "name": "stdout",
     "output_type": "stream",
     "text": [
      "['exampl', 'showing', 'stopword', 'filteration', '.', 'exampl', 'showing', 'stopword', 'filteration', '.']\n"
     ]
    }
   ],
   "source": [
    "for w in words:\n",
    "    if w not in stopwords:\n",
    "        filtered_sent.append(w)\n",
    "print(filtered_sent)"
   ]
  },
  {
   "cell_type": "code",
   "execution_count": 42,
   "metadata": {},
   "outputs": [],
   "source": [
    "filtered_sentence=[w for w in words if w not in stopwords]"
   ]
  },
  {
   "cell_type": "code",
   "execution_count": 43,
   "metadata": {},
   "outputs": [
    {
     "data": {
      "text/plain": [
       "['exampl', 'showing', 'stopword', 'filteration', '.']"
      ]
     },
     "execution_count": 43,
     "metadata": {},
     "output_type": "execute_result"
    }
   ],
   "source": [
    "filtered_sentence"
   ]
  },
  {
   "cell_type": "code",
   "execution_count": null,
   "metadata": {},
   "outputs": [],
   "source": []
  }
 ],
 "metadata": {
  "kernelspec": {
   "display_name": "Python 3",
   "language": "python",
   "name": "python3"
  },
  "language_info": {
   "codemirror_mode": {
    "name": "ipython",
    "version": 3
   },
   "file_extension": ".py",
   "mimetype": "text/x-python",
   "name": "python",
   "nbconvert_exporter": "python",
   "pygments_lexer": "ipython3",
   "version": "3.6.5"
  }
 },
 "nbformat": 4,
 "nbformat_minor": 2
}
