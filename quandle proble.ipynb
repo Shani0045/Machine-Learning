{
 "cells": [
  {
   "cell_type": "code",
   "execution_count": 1,
   "metadata": {},
   "outputs": [],
   "source": [
    "import quandl"
   ]
  },
  {
   "cell_type": "code",
   "execution_count": 2,
   "metadata": {},
   "outputs": [],
   "source": [
    "import pandas as pd"
   ]
  },
  {
   "cell_type": "code",
   "execution_count": 3,
   "metadata": {},
   "outputs": [],
   "source": [
    "# dt=quandl.get(\"Wiki/googl\",authtoken=\"ZYkHeBNX-gg1Q9H_PPJf\")"
   ]
  },
  {
   "cell_type": "code",
   "execution_count": 4,
   "metadata": {},
   "outputs": [],
   "source": [
    "# dt=dt.copy()"
   ]
  },
  {
   "cell_type": "code",
   "execution_count": 5,
   "metadata": {},
   "outputs": [],
   "source": [
    "# dt.to_csv(\"quandledata.csv\")"
   ]
  },
  {
   "cell_type": "code",
   "execution_count": 6,
   "metadata": {},
   "outputs": [],
   "source": [
    "dt=pd.read_csv(\"quandledata.csv\")"
   ]
  },
  {
   "cell_type": "code",
   "execution_count": 7,
   "metadata": {},
   "outputs": [
    {
     "data": {
      "text/plain": [
       "(3424, 13)"
      ]
     },
     "execution_count": 7,
     "metadata": {},
     "output_type": "execute_result"
    }
   ],
   "source": [
    "dt.shape"
   ]
  },
  {
   "cell_type": "code",
   "execution_count": 8,
   "metadata": {},
   "outputs": [],
   "source": [
    "dt=dt[[\"Adj. Open\",\"Adj. High\",\"Adj. Low\",\"Adj. Close\",\"Adj. Volume\"]] "
   ]
  },
  {
   "cell_type": "code",
   "execution_count": 9,
   "metadata": {},
   "outputs": [
    {
     "data": {
      "text/html": [
       "<div>\n",
       "<style scoped>\n",
       "    .dataframe tbody tr th:only-of-type {\n",
       "        vertical-align: middle;\n",
       "    }\n",
       "\n",
       "    .dataframe tbody tr th {\n",
       "        vertical-align: top;\n",
       "    }\n",
       "\n",
       "    .dataframe thead th {\n",
       "        text-align: right;\n",
       "    }\n",
       "</style>\n",
       "<table border=\"1\" class=\"dataframe\">\n",
       "  <thead>\n",
       "    <tr style=\"text-align: right;\">\n",
       "      <th></th>\n",
       "      <th>Adj. Open</th>\n",
       "      <th>Adj. High</th>\n",
       "      <th>Adj. Low</th>\n",
       "      <th>Adj. Close</th>\n",
       "      <th>Adj. Volume</th>\n",
       "    </tr>\n",
       "  </thead>\n",
       "  <tbody>\n",
       "    <tr>\n",
       "      <th>0</th>\n",
       "      <td>50.159839</td>\n",
       "      <td>52.191109</td>\n",
       "      <td>48.128568</td>\n",
       "      <td>50.322842</td>\n",
       "      <td>44659000.0</td>\n",
       "    </tr>\n",
       "    <tr>\n",
       "      <th>1</th>\n",
       "      <td>50.661387</td>\n",
       "      <td>54.708881</td>\n",
       "      <td>50.405597</td>\n",
       "      <td>54.322689</td>\n",
       "      <td>22834300.0</td>\n",
       "    </tr>\n",
       "    <tr>\n",
       "      <th>2</th>\n",
       "      <td>55.551482</td>\n",
       "      <td>56.915693</td>\n",
       "      <td>54.693835</td>\n",
       "      <td>54.869377</td>\n",
       "      <td>18256100.0</td>\n",
       "    </tr>\n",
       "    <tr>\n",
       "      <th>3</th>\n",
       "      <td>55.792225</td>\n",
       "      <td>55.972783</td>\n",
       "      <td>51.945350</td>\n",
       "      <td>52.597363</td>\n",
       "      <td>15247300.0</td>\n",
       "    </tr>\n",
       "    <tr>\n",
       "      <th>4</th>\n",
       "      <td>52.542193</td>\n",
       "      <td>54.167209</td>\n",
       "      <td>52.100830</td>\n",
       "      <td>53.164113</td>\n",
       "      <td>9188600.0</td>\n",
       "    </tr>\n",
       "  </tbody>\n",
       "</table>\n",
       "</div>"
      ],
      "text/plain": [
       "   Adj. Open  Adj. High   Adj. Low  Adj. Close  Adj. Volume\n",
       "0  50.159839  52.191109  48.128568   50.322842   44659000.0\n",
       "1  50.661387  54.708881  50.405597   54.322689   22834300.0\n",
       "2  55.551482  56.915693  54.693835   54.869377   18256100.0\n",
       "3  55.792225  55.972783  51.945350   52.597363   15247300.0\n",
       "4  52.542193  54.167209  52.100830   53.164113    9188600.0"
      ]
     },
     "execution_count": 9,
     "metadata": {},
     "output_type": "execute_result"
    }
   ],
   "source": [
    "dt.head()"
   ]
  },
  {
   "cell_type": "code",
   "execution_count": 10,
   "metadata": {},
   "outputs": [],
   "source": [
    "import matplotlib.pyplot as plt\n",
    "import seaborn as sns"
   ]
  },
  {
   "cell_type": "code",
   "execution_count": 11,
   "metadata": {},
   "outputs": [],
   "source": [
    "dt[\"HL_PCT\"]=(dt[\"Adj. High\"]-dt[\"Adj. Close\"])/dt[\"Adj. Close\"]*100.0"
   ]
  },
  {
   "cell_type": "code",
   "execution_count": 12,
   "metadata": {},
   "outputs": [
    {
     "data": {
      "text/html": [
       "<div>\n",
       "<style scoped>\n",
       "    .dataframe tbody tr th:only-of-type {\n",
       "        vertical-align: middle;\n",
       "    }\n",
       "\n",
       "    .dataframe tbody tr th {\n",
       "        vertical-align: top;\n",
       "    }\n",
       "\n",
       "    .dataframe thead th {\n",
       "        text-align: right;\n",
       "    }\n",
       "</style>\n",
       "<table border=\"1\" class=\"dataframe\">\n",
       "  <thead>\n",
       "    <tr style=\"text-align: right;\">\n",
       "      <th></th>\n",
       "      <th>Adj. Open</th>\n",
       "      <th>Adj. High</th>\n",
       "      <th>Adj. Low</th>\n",
       "      <th>Adj. Close</th>\n",
       "      <th>Adj. Volume</th>\n",
       "      <th>HL_PCT</th>\n",
       "    </tr>\n",
       "  </thead>\n",
       "  <tbody>\n",
       "    <tr>\n",
       "      <th>0</th>\n",
       "      <td>50.159839</td>\n",
       "      <td>52.191109</td>\n",
       "      <td>48.128568</td>\n",
       "      <td>50.322842</td>\n",
       "      <td>44659000.0</td>\n",
       "      <td>3.712563</td>\n",
       "    </tr>\n",
       "    <tr>\n",
       "      <th>1</th>\n",
       "      <td>50.661387</td>\n",
       "      <td>54.708881</td>\n",
       "      <td>50.405597</td>\n",
       "      <td>54.322689</td>\n",
       "      <td>22834300.0</td>\n",
       "      <td>0.710922</td>\n",
       "    </tr>\n",
       "    <tr>\n",
       "      <th>2</th>\n",
       "      <td>55.551482</td>\n",
       "      <td>56.915693</td>\n",
       "      <td>54.693835</td>\n",
       "      <td>54.869377</td>\n",
       "      <td>18256100.0</td>\n",
       "      <td>3.729433</td>\n",
       "    </tr>\n",
       "    <tr>\n",
       "      <th>3</th>\n",
       "      <td>55.792225</td>\n",
       "      <td>55.972783</td>\n",
       "      <td>51.945350</td>\n",
       "      <td>52.597363</td>\n",
       "      <td>15247300.0</td>\n",
       "      <td>6.417469</td>\n",
       "    </tr>\n",
       "    <tr>\n",
       "      <th>4</th>\n",
       "      <td>52.542193</td>\n",
       "      <td>54.167209</td>\n",
       "      <td>52.100830</td>\n",
       "      <td>53.164113</td>\n",
       "      <td>9188600.0</td>\n",
       "      <td>1.886792</td>\n",
       "    </tr>\n",
       "  </tbody>\n",
       "</table>\n",
       "</div>"
      ],
      "text/plain": [
       "   Adj. Open  Adj. High   Adj. Low  Adj. Close  Adj. Volume    HL_PCT\n",
       "0  50.159839  52.191109  48.128568   50.322842   44659000.0  3.712563\n",
       "1  50.661387  54.708881  50.405597   54.322689   22834300.0  0.710922\n",
       "2  55.551482  56.915693  54.693835   54.869377   18256100.0  3.729433\n",
       "3  55.792225  55.972783  51.945350   52.597363   15247300.0  6.417469\n",
       "4  52.542193  54.167209  52.100830   53.164113    9188600.0  1.886792"
      ]
     },
     "execution_count": 12,
     "metadata": {},
     "output_type": "execute_result"
    }
   ],
   "source": [
    "dt.head()"
   ]
  },
  {
   "cell_type": "code",
   "execution_count": 13,
   "metadata": {},
   "outputs": [],
   "source": [
    "dt[\"PCT_change\"]=(dt[\"Adj. Close\"]-dt[\"Adj. Open\"])/dt[\"Adj. Open\"]*100.0"
   ]
  },
  {
   "cell_type": "code",
   "execution_count": 14,
   "metadata": {},
   "outputs": [],
   "source": [
    "dt=dt[[\"Adj. Close\",\"HL_PCT\",\"PCT_change\",\"Adj. Volume\"]]"
   ]
  },
  {
   "cell_type": "code",
   "execution_count": 15,
   "metadata": {},
   "outputs": [
    {
     "data": {
      "text/html": [
       "<div>\n",
       "<style scoped>\n",
       "    .dataframe tbody tr th:only-of-type {\n",
       "        vertical-align: middle;\n",
       "    }\n",
       "\n",
       "    .dataframe tbody tr th {\n",
       "        vertical-align: top;\n",
       "    }\n",
       "\n",
       "    .dataframe thead th {\n",
       "        text-align: right;\n",
       "    }\n",
       "</style>\n",
       "<table border=\"1\" class=\"dataframe\">\n",
       "  <thead>\n",
       "    <tr style=\"text-align: right;\">\n",
       "      <th></th>\n",
       "      <th>Adj. Close</th>\n",
       "      <th>HL_PCT</th>\n",
       "      <th>PCT_change</th>\n",
       "      <th>Adj. Volume</th>\n",
       "    </tr>\n",
       "  </thead>\n",
       "  <tbody>\n",
       "    <tr>\n",
       "      <th>0</th>\n",
       "      <td>50.322842</td>\n",
       "      <td>3.712563</td>\n",
       "      <td>0.324968</td>\n",
       "      <td>44659000.0</td>\n",
       "    </tr>\n",
       "    <tr>\n",
       "      <th>1</th>\n",
       "      <td>54.322689</td>\n",
       "      <td>0.710922</td>\n",
       "      <td>7.227007</td>\n",
       "      <td>22834300.0</td>\n",
       "    </tr>\n",
       "    <tr>\n",
       "      <th>2</th>\n",
       "      <td>54.869377</td>\n",
       "      <td>3.729433</td>\n",
       "      <td>-1.227880</td>\n",
       "      <td>18256100.0</td>\n",
       "    </tr>\n",
       "    <tr>\n",
       "      <th>3</th>\n",
       "      <td>52.597363</td>\n",
       "      <td>6.417469</td>\n",
       "      <td>-5.726357</td>\n",
       "      <td>15247300.0</td>\n",
       "    </tr>\n",
       "    <tr>\n",
       "      <th>4</th>\n",
       "      <td>53.164113</td>\n",
       "      <td>1.886792</td>\n",
       "      <td>1.183658</td>\n",
       "      <td>9188600.0</td>\n",
       "    </tr>\n",
       "  </tbody>\n",
       "</table>\n",
       "</div>"
      ],
      "text/plain": [
       "   Adj. Close    HL_PCT  PCT_change  Adj. Volume\n",
       "0   50.322842  3.712563    0.324968   44659000.0\n",
       "1   54.322689  0.710922    7.227007   22834300.0\n",
       "2   54.869377  3.729433   -1.227880   18256100.0\n",
       "3   52.597363  6.417469   -5.726357   15247300.0\n",
       "4   53.164113  1.886792    1.183658    9188600.0"
      ]
     },
     "execution_count": 15,
     "metadata": {},
     "output_type": "execute_result"
    }
   ],
   "source": [
    "dt.head()"
   ]
  },
  {
   "cell_type": "code",
   "execution_count": 16,
   "metadata": {},
   "outputs": [],
   "source": [
    "forecast_col=\"Adj. Close\""
   ]
  },
  {
   "cell_type": "code",
   "execution_count": null,
   "metadata": {},
   "outputs": [],
   "source": []
  },
  {
   "cell_type": "code",
   "execution_count": 17,
   "metadata": {},
   "outputs": [
    {
     "data": {
      "text/plain": [
       "Adj. Close     0\n",
       "HL_PCT         0\n",
       "PCT_change     0\n",
       "Adj. Volume    0\n",
       "dtype: int64"
      ]
     },
     "execution_count": 17,
     "metadata": {},
     "output_type": "execute_result"
    }
   ],
   "source": [
    "dt.isna().sum()"
   ]
  },
  {
   "cell_type": "code",
   "execution_count": 18,
   "metadata": {},
   "outputs": [],
   "source": [
    "import math"
   ]
  },
  {
   "cell_type": "code",
   "execution_count": 19,
   "metadata": {},
   "outputs": [
    {
     "data": {
      "text/plain": [
       "3424"
      ]
     },
     "execution_count": 19,
     "metadata": {},
     "output_type": "execute_result"
    }
   ],
   "source": [
    "len(dt)"
   ]
  },
  {
   "cell_type": "code",
   "execution_count": 20,
   "metadata": {},
   "outputs": [],
   "source": [
    "dt.fillna(-99999,inplace=True)"
   ]
  },
  {
   "cell_type": "code",
   "execution_count": 21,
   "metadata": {},
   "outputs": [],
   "source": [
    "forecast_out=int(math.ceil(0.01*len(dt)))  # it means 1 % of prediction"
   ]
  },
  {
   "cell_type": "code",
   "execution_count": 22,
   "metadata": {},
   "outputs": [
    {
     "data": {
      "text/plain": [
       "35"
      ]
     },
     "execution_count": 22,
     "metadata": {},
     "output_type": "execute_result"
    }
   ],
   "source": [
    "forecast_out"
   ]
  },
  {
   "cell_type": "code",
   "execution_count": 23,
   "metadata": {},
   "outputs": [],
   "source": [
    "dt[\"label\"]=dt[forecast_col].shift(-forecast_out)"
   ]
  },
  {
   "cell_type": "code",
   "execution_count": null,
   "metadata": {},
   "outputs": [],
   "source": []
  },
  {
   "cell_type": "code",
   "execution_count": 24,
   "metadata": {},
   "outputs": [
    {
     "data": {
      "text/html": [
       "<div>\n",
       "<style scoped>\n",
       "    .dataframe tbody tr th:only-of-type {\n",
       "        vertical-align: middle;\n",
       "    }\n",
       "\n",
       "    .dataframe tbody tr th {\n",
       "        vertical-align: top;\n",
       "    }\n",
       "\n",
       "    .dataframe thead th {\n",
       "        text-align: right;\n",
       "    }\n",
       "</style>\n",
       "<table border=\"1\" class=\"dataframe\">\n",
       "  <thead>\n",
       "    <tr style=\"text-align: right;\">\n",
       "      <th></th>\n",
       "      <th>Adj. Close</th>\n",
       "      <th>HL_PCT</th>\n",
       "      <th>PCT_change</th>\n",
       "      <th>Adj. Volume</th>\n",
       "      <th>label</th>\n",
       "    </tr>\n",
       "  </thead>\n",
       "  <tbody>\n",
       "    <tr>\n",
       "      <th>0</th>\n",
       "      <td>50.322842</td>\n",
       "      <td>3.712563</td>\n",
       "      <td>0.324968</td>\n",
       "      <td>44659000.0</td>\n",
       "      <td>69.078238</td>\n",
       "    </tr>\n",
       "    <tr>\n",
       "      <th>1</th>\n",
       "      <td>54.322689</td>\n",
       "      <td>0.710922</td>\n",
       "      <td>7.227007</td>\n",
       "      <td>22834300.0</td>\n",
       "      <td>67.839414</td>\n",
       "    </tr>\n",
       "    <tr>\n",
       "      <th>2</th>\n",
       "      <td>54.869377</td>\n",
       "      <td>3.729433</td>\n",
       "      <td>-1.227880</td>\n",
       "      <td>18256100.0</td>\n",
       "      <td>68.912727</td>\n",
       "    </tr>\n",
       "    <tr>\n",
       "      <th>3</th>\n",
       "      <td>52.597363</td>\n",
       "      <td>6.417469</td>\n",
       "      <td>-5.726357</td>\n",
       "      <td>15247300.0</td>\n",
       "      <td>70.668146</td>\n",
       "    </tr>\n",
       "    <tr>\n",
       "      <th>4</th>\n",
       "      <td>53.164113</td>\n",
       "      <td>1.886792</td>\n",
       "      <td>1.183658</td>\n",
       "      <td>9188600.0</td>\n",
       "      <td>71.219849</td>\n",
       "    </tr>\n",
       "  </tbody>\n",
       "</table>\n",
       "</div>"
      ],
      "text/plain": [
       "   Adj. Close    HL_PCT  PCT_change  Adj. Volume      label\n",
       "0   50.322842  3.712563    0.324968   44659000.0  69.078238\n",
       "1   54.322689  0.710922    7.227007   22834300.0  67.839414\n",
       "2   54.869377  3.729433   -1.227880   18256100.0  68.912727\n",
       "3   52.597363  6.417469   -5.726357   15247300.0  70.668146\n",
       "4   53.164113  1.886792    1.183658    9188600.0  71.219849"
      ]
     },
     "execution_count": 24,
     "metadata": {},
     "output_type": "execute_result"
    }
   ],
   "source": [
    "dt.head()"
   ]
  },
  {
   "cell_type": "code",
   "execution_count": null,
   "metadata": {},
   "outputs": [],
   "source": []
  },
  {
   "cell_type": "code",
   "execution_count": 25,
   "metadata": {},
   "outputs": [
    {
     "data": {
      "text/plain": [
       "(3424, 5)"
      ]
     },
     "execution_count": 25,
     "metadata": {},
     "output_type": "execute_result"
    }
   ],
   "source": [
    "dt.shape"
   ]
  },
  {
   "cell_type": "code",
   "execution_count": 26,
   "metadata": {},
   "outputs": [
    {
     "data": {
      "text/html": [
       "<div>\n",
       "<style scoped>\n",
       "    .dataframe tbody tr th:only-of-type {\n",
       "        vertical-align: middle;\n",
       "    }\n",
       "\n",
       "    .dataframe tbody tr th {\n",
       "        vertical-align: top;\n",
       "    }\n",
       "\n",
       "    .dataframe thead th {\n",
       "        text-align: right;\n",
       "    }\n",
       "</style>\n",
       "<table border=\"1\" class=\"dataframe\">\n",
       "  <thead>\n",
       "    <tr style=\"text-align: right;\">\n",
       "      <th></th>\n",
       "      <th>Adj. Close</th>\n",
       "      <th>HL_PCT</th>\n",
       "      <th>PCT_change</th>\n",
       "      <th>Adj. Volume</th>\n",
       "      <th>label</th>\n",
       "    </tr>\n",
       "  </thead>\n",
       "  <tbody>\n",
       "    <tr>\n",
       "      <th>0</th>\n",
       "      <td>50.322842</td>\n",
       "      <td>3.712563</td>\n",
       "      <td>0.324968</td>\n",
       "      <td>44659000.0</td>\n",
       "      <td>69.078238</td>\n",
       "    </tr>\n",
       "    <tr>\n",
       "      <th>1</th>\n",
       "      <td>54.322689</td>\n",
       "      <td>0.710922</td>\n",
       "      <td>7.227007</td>\n",
       "      <td>22834300.0</td>\n",
       "      <td>67.839414</td>\n",
       "    </tr>\n",
       "    <tr>\n",
       "      <th>2</th>\n",
       "      <td>54.869377</td>\n",
       "      <td>3.729433</td>\n",
       "      <td>-1.227880</td>\n",
       "      <td>18256100.0</td>\n",
       "      <td>68.912727</td>\n",
       "    </tr>\n",
       "    <tr>\n",
       "      <th>3</th>\n",
       "      <td>52.597363</td>\n",
       "      <td>6.417469</td>\n",
       "      <td>-5.726357</td>\n",
       "      <td>15247300.0</td>\n",
       "      <td>70.668146</td>\n",
       "    </tr>\n",
       "    <tr>\n",
       "      <th>4</th>\n",
       "      <td>53.164113</td>\n",
       "      <td>1.886792</td>\n",
       "      <td>1.183658</td>\n",
       "      <td>9188600.0</td>\n",
       "      <td>71.219849</td>\n",
       "    </tr>\n",
       "  </tbody>\n",
       "</table>\n",
       "</div>"
      ],
      "text/plain": [
       "   Adj. Close    HL_PCT  PCT_change  Adj. Volume      label\n",
       "0   50.322842  3.712563    0.324968   44659000.0  69.078238\n",
       "1   54.322689  0.710922    7.227007   22834300.0  67.839414\n",
       "2   54.869377  3.729433   -1.227880   18256100.0  68.912727\n",
       "3   52.597363  6.417469   -5.726357   15247300.0  70.668146\n",
       "4   53.164113  1.886792    1.183658    9188600.0  71.219849"
      ]
     },
     "execution_count": 26,
     "metadata": {},
     "output_type": "execute_result"
    }
   ],
   "source": [
    "dt.head()"
   ]
  },
  {
   "cell_type": "code",
   "execution_count": 27,
   "metadata": {},
   "outputs": [
    {
     "data": {
      "text/html": [
       "<div>\n",
       "<style scoped>\n",
       "    .dataframe tbody tr th:only-of-type {\n",
       "        vertical-align: middle;\n",
       "    }\n",
       "\n",
       "    .dataframe tbody tr th {\n",
       "        vertical-align: top;\n",
       "    }\n",
       "\n",
       "    .dataframe thead th {\n",
       "        text-align: right;\n",
       "    }\n",
       "</style>\n",
       "<table border=\"1\" class=\"dataframe\">\n",
       "  <thead>\n",
       "    <tr style=\"text-align: right;\">\n",
       "      <th></th>\n",
       "      <th>Adj. Close</th>\n",
       "      <th>HL_PCT</th>\n",
       "      <th>PCT_change</th>\n",
       "      <th>Adj. Volume</th>\n",
       "      <th>label</th>\n",
       "    </tr>\n",
       "  </thead>\n",
       "  <tbody>\n",
       "    <tr>\n",
       "      <th>0</th>\n",
       "      <td>50.322842</td>\n",
       "      <td>3.712563</td>\n",
       "      <td>0.324968</td>\n",
       "      <td>44659000.0</td>\n",
       "      <td>69.078238</td>\n",
       "    </tr>\n",
       "    <tr>\n",
       "      <th>1</th>\n",
       "      <td>54.322689</td>\n",
       "      <td>0.710922</td>\n",
       "      <td>7.227007</td>\n",
       "      <td>22834300.0</td>\n",
       "      <td>67.839414</td>\n",
       "    </tr>\n",
       "    <tr>\n",
       "      <th>2</th>\n",
       "      <td>54.869377</td>\n",
       "      <td>3.729433</td>\n",
       "      <td>-1.227880</td>\n",
       "      <td>18256100.0</td>\n",
       "      <td>68.912727</td>\n",
       "    </tr>\n",
       "    <tr>\n",
       "      <th>3</th>\n",
       "      <td>52.597363</td>\n",
       "      <td>6.417469</td>\n",
       "      <td>-5.726357</td>\n",
       "      <td>15247300.0</td>\n",
       "      <td>70.668146</td>\n",
       "    </tr>\n",
       "    <tr>\n",
       "      <th>4</th>\n",
       "      <td>53.164113</td>\n",
       "      <td>1.886792</td>\n",
       "      <td>1.183658</td>\n",
       "      <td>9188600.0</td>\n",
       "      <td>71.219849</td>\n",
       "    </tr>\n",
       "  </tbody>\n",
       "</table>\n",
       "</div>"
      ],
      "text/plain": [
       "   Adj. Close    HL_PCT  PCT_change  Adj. Volume      label\n",
       "0   50.322842  3.712563    0.324968   44659000.0  69.078238\n",
       "1   54.322689  0.710922    7.227007   22834300.0  67.839414\n",
       "2   54.869377  3.729433   -1.227880   18256100.0  68.912727\n",
       "3   52.597363  6.417469   -5.726357   15247300.0  70.668146\n",
       "4   53.164113  1.886792    1.183658    9188600.0  71.219849"
      ]
     },
     "execution_count": 27,
     "metadata": {},
     "output_type": "execute_result"
    }
   ],
   "source": [
    "dt.head()\n"
   ]
  },
  {
   "cell_type": "code",
   "execution_count": 28,
   "metadata": {},
   "outputs": [
    {
     "data": {
      "text/html": [
       "<div>\n",
       "<style scoped>\n",
       "    .dataframe tbody tr th:only-of-type {\n",
       "        vertical-align: middle;\n",
       "    }\n",
       "\n",
       "    .dataframe tbody tr th {\n",
       "        vertical-align: top;\n",
       "    }\n",
       "\n",
       "    .dataframe thead th {\n",
       "        text-align: right;\n",
       "    }\n",
       "</style>\n",
       "<table border=\"1\" class=\"dataframe\">\n",
       "  <thead>\n",
       "    <tr style=\"text-align: right;\">\n",
       "      <th></th>\n",
       "      <th>Adj. Close</th>\n",
       "      <th>HL_PCT</th>\n",
       "      <th>PCT_change</th>\n",
       "      <th>Adj. Volume</th>\n",
       "      <th>label</th>\n",
       "    </tr>\n",
       "  </thead>\n",
       "  <tbody>\n",
       "    <tr>\n",
       "      <th>Adj. Close</th>\n",
       "      <td>1.000000</td>\n",
       "      <td>-0.213441</td>\n",
       "      <td>0.001786</td>\n",
       "      <td>-0.550264</td>\n",
       "      <td>0.988854</td>\n",
       "    </tr>\n",
       "    <tr>\n",
       "      <th>HL_PCT</th>\n",
       "      <td>-0.213441</td>\n",
       "      <td>1.000000</td>\n",
       "      <td>-0.712319</td>\n",
       "      <td>0.379402</td>\n",
       "      <td>-0.238008</td>\n",
       "    </tr>\n",
       "    <tr>\n",
       "      <th>PCT_change</th>\n",
       "      <td>0.001786</td>\n",
       "      <td>-0.712319</td>\n",
       "      <td>1.000000</td>\n",
       "      <td>-0.024881</td>\n",
       "      <td>0.007986</td>\n",
       "    </tr>\n",
       "    <tr>\n",
       "      <th>Adj. Volume</th>\n",
       "      <td>-0.550264</td>\n",
       "      <td>0.379402</td>\n",
       "      <td>-0.024881</td>\n",
       "      <td>1.000000</td>\n",
       "      <td>-0.556629</td>\n",
       "    </tr>\n",
       "    <tr>\n",
       "      <th>label</th>\n",
       "      <td>0.988854</td>\n",
       "      <td>-0.238008</td>\n",
       "      <td>0.007986</td>\n",
       "      <td>-0.556629</td>\n",
       "      <td>1.000000</td>\n",
       "    </tr>\n",
       "  </tbody>\n",
       "</table>\n",
       "</div>"
      ],
      "text/plain": [
       "             Adj. Close    HL_PCT  PCT_change  Adj. Volume     label\n",
       "Adj. Close     1.000000 -0.213441    0.001786    -0.550264  0.988854\n",
       "HL_PCT        -0.213441  1.000000   -0.712319     0.379402 -0.238008\n",
       "PCT_change     0.001786 -0.712319    1.000000    -0.024881  0.007986\n",
       "Adj. Volume   -0.550264  0.379402   -0.024881     1.000000 -0.556629\n",
       "label          0.988854 -0.238008    0.007986    -0.556629  1.000000"
      ]
     },
     "execution_count": 28,
     "metadata": {},
     "output_type": "execute_result"
    }
   ],
   "source": [
    "dt.corr()"
   ]
  },
  {
   "cell_type": "code",
   "execution_count": 29,
   "metadata": {},
   "outputs": [
    {
     "data": {
      "text/plain": [
       "<matplotlib.axes._subplots.AxesSubplot at 0x25414217e48>"
      ]
     },
     "execution_count": 29,
     "metadata": {},
     "output_type": "execute_result"
    },
    {
     "data": {
      "image/png": "[encoded data removed]",
      "text/plain": [
       "<matplotlib.figure.Figure at 0x25414217940>"
      ]
     },
     "metadata": {
      "needs_background": "light"
     },
     "output_type": "display_data"
    }
   ],
   "source": [
    "sns.heatmap(dt.corr())"
   ]
  },
  {
   "cell_type": "code",
   "execution_count": 30,
   "metadata": {},
   "outputs": [],
   "source": [
    "from sklearn.linear_model import LinearRegression,Ridge,Lasso"
   ]
  },
  {
   "cell_type": "code",
   "execution_count": 31,
   "metadata": {},
   "outputs": [],
   "source": [
    "from sklearn import preprocessing"
   ]
  },
  {
   "cell_type": "code",
   "execution_count": 32,
   "metadata": {},
   "outputs": [],
   "source": [
    "import numpy as np"
   ]
  },
  {
   "cell_type": "code",
   "execution_count": 33,
   "metadata": {},
   "outputs": [],
   "source": [
    "x=np.array(dt.drop([\"label\"],1))\n",
    "x=preprocessing.scale(x)\n",
    "x=x[:-forecast_out]\n",
    "x_lately=x[-forecast_out:]\n"
   ]
  },
  {
   "cell_type": "code",
   "execution_count": 34,
   "metadata": {},
   "outputs": [],
   "source": [
    "dt.dropna(inplace=True)\n",
    "y=np.array(dt[\"label\"])"
   ]
  },
  {
   "cell_type": "code",
   "execution_count": 35,
   "metadata": {},
   "outputs": [],
   "source": [
    "# x=x[:-forecast_out+1]"
   ]
  },
  {
   "cell_type": "code",
   "execution_count": 36,
   "metadata": {},
   "outputs": [],
   "source": [
    "dt.dropna(inplace=True)"
   ]
  },
  {
   "cell_type": "code",
   "execution_count": 37,
   "metadata": {},
   "outputs": [],
   "source": [
    "y=np.array(dt[\"label\"])"
   ]
  },
  {
   "cell_type": "code",
   "execution_count": 38,
   "metadata": {},
   "outputs": [
    {
     "name": "stdout",
     "output_type": "stream",
     "text": [
      "3389 3389\n"
     ]
    }
   ],
   "source": [
    "print(len(x),len(y))"
   ]
  },
  {
   "cell_type": "code",
   "execution_count": 39,
   "metadata": {},
   "outputs": [
    {
     "data": {
      "text/plain": [
       "(3389,)"
      ]
     },
     "execution_count": 39,
     "metadata": {},
     "output_type": "execute_result"
    }
   ],
   "source": [
    "y.shape"
   ]
  },
  {
   "cell_type": "code",
   "execution_count": 40,
   "metadata": {},
   "outputs": [],
   "source": [
    "from sklearn.model_selection import train_test_split"
   ]
  },
  {
   "cell_type": "code",
   "execution_count": 41,
   "metadata": {},
   "outputs": [],
   "source": [
    "x_tr,x_ts,y_tr,y_ts=train_test_split(x,y,test_size=0.2)"
   ]
  },
  {
   "cell_type": "code",
   "execution_count": 42,
   "metadata": {},
   "outputs": [],
   "source": [
    "cls=LinearRegression(n_jobs=-1)"
   ]
  },
  {
   "cell_type": "code",
   "execution_count": 43,
   "metadata": {},
   "outputs": [
    {
     "data": {
      "text/plain": [
       "LinearRegression(copy_X=True, fit_intercept=True, n_jobs=-1, normalize=False)"
      ]
     },
     "execution_count": 43,
     "metadata": {},
     "output_type": "execute_result"
    }
   ],
   "source": [
    "cls.fit(x_tr,y_tr)"
   ]
  },
  {
   "cell_type": "code",
   "execution_count": 44,
   "metadata": {},
   "outputs": [
    {
     "data": {
      "text/plain": [
       "0.9757581621875534"
      ]
     },
     "execution_count": 44,
     "metadata": {},
     "output_type": "execute_result"
    }
   ],
   "source": [
    "cls.score(x_ts,y_ts)"
   ]
  },
  {
   "cell_type": "code",
   "execution_count": 45,
   "metadata": {},
   "outputs": [],
   "source": [
    "s=Lasso()"
   ]
  },
  {
   "cell_type": "code",
   "execution_count": 46,
   "metadata": {},
   "outputs": [
    {
     "data": {
      "text/plain": [
       "Lasso(alpha=1.0, copy_X=True, fit_intercept=True, max_iter=1000,\n",
       "      normalize=False, positive=False, precompute=False, random_state=None,\n",
       "      selection='cyclic', tol=0.0001, warm_start=False)"
      ]
     },
     "execution_count": 46,
     "metadata": {},
     "output_type": "execute_result"
    }
   ],
   "source": [
    "s.fit(x_tr,y_tr)"
   ]
  },
  {
   "cell_type": "code",
   "execution_count": 47,
   "metadata": {},
   "outputs": [
    {
     "data": {
      "text/plain": [
       "0.9757810032319859"
      ]
     },
     "execution_count": 47,
     "metadata": {},
     "output_type": "execute_result"
    }
   ],
   "source": [
    "s.score(x_ts,y_ts)"
   ]
  },
  {
   "cell_type": "code",
   "execution_count": 48,
   "metadata": {},
   "outputs": [],
   "source": [
    "from sklearn.model_selection import cross_val_score"
   ]
  },
  {
   "cell_type": "code",
   "execution_count": 49,
   "metadata": {},
   "outputs": [],
   "source": [
    "from sklearn.metrics import r2_score,mean_squared_error"
   ]
  },
  {
   "cell_type": "code",
   "execution_count": 50,
   "metadata": {},
   "outputs": [],
   "source": [
    "a=cross_val_score(cls,x_tr,y_tr,cv=10)"
   ]
  },
  {
   "cell_type": "code",
   "execution_count": 51,
   "metadata": {},
   "outputs": [
    {
     "data": {
      "text/plain": [
       "array([0.98067656, 0.97488211, 0.9756013 , 0.97699471, 0.97924333,\n",
       "       0.97562403, 0.98437987, 0.97725236, 0.97541627, 0.97985059])"
      ]
     },
     "execution_count": 51,
     "metadata": {},
     "output_type": "execute_result"
    }
   ],
   "source": [
    "a"
   ]
  },
  {
   "cell_type": "code",
   "execution_count": 52,
   "metadata": {},
   "outputs": [
    {
     "data": {
      "text/plain": [
       "0.9779921132246537"
      ]
     },
     "execution_count": 52,
     "metadata": {},
     "output_type": "execute_result"
    }
   ],
   "source": [
    "a.mean()"
   ]
  },
  {
   "cell_type": "code",
   "execution_count": 53,
   "metadata": {},
   "outputs": [],
   "source": [
    "forecast_set=cls.predict(x_lately)"
   ]
  },
  {
   "cell_type": "code",
   "execution_count": 54,
   "metadata": {},
   "outputs": [
    {
     "data": {
      "text/plain": [
       "array([1076.36637996, 1091.04091374, 1105.02781819, 1099.2305995 ,\n",
       "       1092.627278  , 1090.10676472, 1088.59481029, 1085.49261442,\n",
       "       1079.28118387, 1074.94488616, 1072.71554505, 1093.1308854 ,\n",
       "       1111.41872224, 1115.16062047, 1130.2769187 , 1134.17791024,\n",
       "       1132.45745553, 1130.28850295, 1131.92515744, 1151.10496933,\n",
       "       1149.37410357, 1159.55641018, 1155.97521965, 1164.01520171,\n",
       "       1184.94589962, 1196.67379769, 1190.47341936, 1202.76075958,\n",
       "       1208.17763716, 1206.43246456, 1197.21939168, 1202.60645949,\n",
       "       1201.5271377 , 1136.65247194, 1083.43273584])"
      ]
     },
     "execution_count": 54,
     "metadata": {},
     "output_type": "execute_result"
    }
   ],
   "source": [
    "forecast_set"
   ]
  },
  {
   "cell_type": "code",
   "execution_count": 58,
   "metadata": {},
   "outputs": [],
   "source": [
    "pr=cls.predict(x_ts)"
   ]
  },
  {
   "cell_type": "code",
   "execution_count": 59,
   "metadata": {},
   "outputs": [
    {
     "data": {
      "text/plain": [
       "array([ 245.01634198,  695.35      ,  238.93256193,  351.44989215,\n",
       "       1044.15      ,  214.2413425 ,  250.95968852, 1006.94      ,\n",
       "        202.11892175,  243.24587672,  544.53      ,  102.69200037,\n",
       "        202.64554739,  206.22660176,  730.55      ,  257.52495487,\n",
       "        261.38687625,   71.21984885,  313.05637504,   97.83199801,\n",
       "        145.30905513,  286.91066574,  289.65413456,  584.31372048,\n",
       "        241.77132492,  849.87      ,  547.73      ,  280.39053873,\n",
       "        507.27089666,  147.01381757,  451.70436811,  262.82631967,\n",
       "        159.95376194,  304.85606146,  257.85096122,  205.23353627,\n",
       "        294.06274352,  791.47      ,  193.49730765,  295.02571612,\n",
       "        497.06      ,  555.17376824,  198.63316154,  759.47      ,\n",
       "        358.70227957,  730.3       ,  592.42      ,   88.50821639,\n",
       "        745.98      ,  847.27      ,  740.07      ,   92.15948751,\n",
       "        243.17565997,  529.28      ,  378.08210323,  704.16      ,\n",
       "        166.12280519,  285.66181064,  533.20094022,  263.38805369,\n",
       "        955.24      ,  140.43350478,  584.67      ,  144.44589063,\n",
       "        243.50166632,  235.73268421,  110.06475937,  413.56162512,\n",
       "         95.61515482,  793.96      ,  590.57      ,  330.52529994,\n",
       "         93.27292458,  545.89      ,  272.17016322,  560.38986984,\n",
       "       1001.59      ,  595.18227065,   90.26865068,  238.66674137,\n",
       "        865.91      ,  856.75      ,  252.20854361,  393.90093445,\n",
       "        424.16937021,  760.12      ,  710.49      ,  222.2109439 ,\n",
       "        744.87      ,  294.28844022,  946.65      ,  250.16724231,\n",
       "       1165.93      ,  285.87747638, 1034.66      ,  223.13379264,\n",
       "        932.26      ,  214.97360292,  263.95981867,  297.88955652,\n",
       "        947.55      ,  154.76273775,  849.53      ,  532.03734833,\n",
       "        185.41736565,  554.7       ,  187.67934817,  367.78531804,\n",
       "        420.600353  ,  553.76      ,   94.24091267,  358.54178414,\n",
       "       1072.        ,  313.21687047,  241.88166553,  217.80484268,\n",
       "        266.02619739,  207.88672641,  307.95061404,  975.96      ,\n",
       "        558.98051931,  537.31      ,  401.29576157,  243.15559804,\n",
       "        653.2       ,  434.2103658 ,  809.84      ,  269.93676895,\n",
       "        757.36      ,  443.7397822 ,  137.42923087,   86.48196153,\n",
       "         93.99013855, 1073.21      ,  265.72526845,  438.87476435,\n",
       "        200.12275979,   86.09075391, 1052.39      ,  545.32      ,\n",
       "        244.25398866,  405.1456458 ,  547.33      ,  309.29977879,\n",
       "        193.86093012,  277.27090873,  590.76      ,  303.9933985 ,\n",
       "        316.85309515,  194.97185945,  231.65509709,  793.6       ,\n",
       "        368.51256298,  229.47336229, 1176.17      ,  275.85654272,\n",
       "        796.87      ,   95.46469035,  782.19      ,  858.95      ,\n",
       "        293.80695392,  742.17      ,  258.35752493,  418.70249449,\n",
       "        955.89      ,  262.83133515,  334.03112207,  313.6632484 ,\n",
       "        940.13      ,  826.01      ,  506.85962711,  717.51      ,\n",
       "        748.46      ,  548.84      ,  184.82052325,  987.09      ,\n",
       "        296.15419964,  274.06100005,  210.87595387,  253.16650073,\n",
       "        694.11      ,  243.56686759,  354.78518789,  323.35316023,\n",
       "        500.72      ,  538.83      ,  296.66577884,  561.80925134,\n",
       "        518.        ,  202.14901464,  194.09916553,  337.47675842,\n",
       "        444.62250709,  262.15931068,   86.51706991,  243.54680566,\n",
       "        313.94913089,  266.0512748 ,  561.17      ,  215.29960927,\n",
       "       1051.97      ,  945.75      ,  199.0996014 ,  950.44      ,\n",
       "        860.08      ,  332.54152383,  354.11311326,   90.50437835,\n",
       "        306.04974625,  296.16924609,  145.89536502,  581.15396662,\n",
       "        289.63908812,  109.71367561,  609.70710743,  568.46981185,\n",
       "        213.68963945,  291.24905794,  297.02187808,  807.99      ,\n",
       "        271.65356854,  144.67158733,  308.94869502,  293.8972326 ,\n",
       "        579.55      , 1057.47      ,  158.36886953,  258.74873255,\n",
       "        733.19      ,  200.59421513,  265.64000525,  367.60471053,\n",
       "        401.84044295,  242.14748609,  993.27      ,  215.74097171,\n",
       "        290.41648788,  339.61836937,  303.97333657, 1134.42      ,\n",
       "        179.55426682,  593.14      ,  269.963351  ,  932.82      ,\n",
       "        548.54      ,  235.69757584,  417.58705122,  551.69      ,\n",
       "       1139.1       ,  149.17047497,  824.06      ,  307.34374068,\n",
       "        191.2152632 ,  249.85628241,  809.9       ,  285.42608297,\n",
       "        347.16667025,  558.28336727,  551.69      ,  183.31086307,\n",
       "        254.97207437,  245.4075496 ,  213.0777506 ,  941.41      ,\n",
       "        203.08314822,  760.01      ,  532.11      ,   96.91416474,\n",
       "        273.509297  ,  259.14495565,  354.59459956,  603.20704235,\n",
       "        815.34      ,  268.72452687,  209.97818253,  392.17560853,\n",
       "        314.68139131,  541.7       ,  655.3       ,  304.50999318,\n",
       "        796.59      ,  541.95      ,  277.96304529,  624.25      ,\n",
       "        203.46808649,  192.7750782 ,  521.19      ,  209.61706781,\n",
       "        287.38212108,  830.94      ,  256.46167261,  681.14      ,\n",
       "        196.72727826,  292.73865619,  549.18      ,  246.01943844,\n",
       "        553.        ,  761.35      ,  317.97154771,  345.02405621,\n",
       "        250.78916212,  226.39385615,   84.96227039,  291.39952241,\n",
       "         92.79645376,  233.1848192 ,  188.80783169,  220.06431747,\n",
       "        204.57650808,  238.23540989,  558.94      ,  356.72617954,\n",
       "       1065.85      ,  113.35993125,  920.87      ,  268.36341214,\n",
       "        241.06414191,  191.90238428,  163.09846935,  231.44946232,\n",
       "        536.59140627,  240.89361551,  226.26846909,  167.06571586,\n",
       "        791.4       ,  310.94987247,  970.5       ,  191.09990711,\n",
       "        200.72461767,  520.39      ,  300.38726672,  234.0926215 ,\n",
       "        959.22      ,  331.02684817,  246.99745749,  267.38539309,\n",
       "       1019.6       ,  413.93277081,  209.49669623,  320.84040359,\n",
       "        398.99666448,  598.44      ,  538.        , 1119.2       ,\n",
       "        592.31341477,  768.2       ,  348.46066469,  580.32      ,\n",
       "        780.        ,  195.34802063,  236.41478981,  171.86051695,\n",
       "        202.79601186,  757.08      ,  996.68      ,  522.98      ,\n",
       "        210.97124803,  254.791517  ,  201.68759027,  260.21325339,\n",
       "        594.26      ,  735.63      ,  356.08921329,  310.44832424,\n",
       "       1181.59      ,  942.58      ,  537.55      ,  201.51204839,\n",
       "        237.6084746 ,  245.0364039 ,  320.11315865,  264.33597985,\n",
       "        378.006871  ,  352.52320536,  298.39110475,  271.18712869,\n",
       "        156.32255274,  765.84      ,  762.55      ,  762.16      ,\n",
       "        308.05593917,   85.48889603,  573.66      ,  571.81      ,\n",
       "        278.15363362,  424.76119712,  204.06492889,  308.75309121,\n",
       "        240.28172667,  964.81      ,   86.54214732,  204.03985147,\n",
       "        307.11804398,   89.62165346,  207.67106067,  998.31      ,\n",
       "        373.50296788,  522.57      ,  219.22673192,  309.5505529 ,\n",
       "        244.2564964 ,   92.63595833,  396.28830403,  714.87      ,\n",
       "        258.54811326,  301.56590506, 1050.3       ,  231.73534481,\n",
       "        789.44      ,  220.01917813,  238.7419736 ,  230.5466755 ,\n",
       "        270.54013147,  563.64      ,  361.50593419,  234.70952582,\n",
       "         69.0782379 ,  290.22088407,  140.21282355,  609.33596174,\n",
       "        155.34954918,  710.25      ,  204.87743702,  273.85536528,\n",
       "        829.02      ,  269.03047129,  316.16095859,  733.25      ,\n",
       "        238.66172588,   98.95546604,  517.30186129,  335.13954367,\n",
       "        236.31949564,  234.47379815,  520.04      ,  194.05402619,\n",
       "        151.66818516,  558.25      ,  306.43593839,  297.96980424,\n",
       "        271.48805763,  187.4436205 ,  591.97      ,  670.15      ,\n",
       "        223.0886533 ,  195.59879474,  274.99387976,  829.88      ,\n",
       "        212.72666684,  296.77110397,  280.36044584,  328.89526819,\n",
       "        259.86718511,  286.18843629,  659.66      ,  263.56861105,\n",
       "        154.56211845,  173.38522358,  249.72537832,  189.18399286,\n",
       "         89.90252047,  289.2478805 ,  250.63368217,   94.33119135,\n",
       "        271.61344468,  308.09857077,  291.75060617,  317.01359058,\n",
       "        246.49089378,  598.42      ,  201.70263672,  190.06170227,\n",
       "        284.52831164,  216.66883594,  335.79155637,  321.65792721,\n",
       "        186.64615881,  155.83605096,  343.13923796,  301.40540963,\n",
       "        447.71204419,  284.2574756 ,  276.89976304,  788.42      ,\n",
       "        350.33645508,  439.31111132,  269.72762333,  354.16828356,\n",
       "        546.6       ,  227.18128687,  150.52465519,  216.96976488,\n",
       "        924.52      ,  827.09      ,  322.28987798,  539.49      ,\n",
       "        704.25      ,  280.86700955,  747.6       , 1073.56      ,\n",
       "        121.17906817,  238.8272368 ,  695.19      ,  591.49      ,\n",
       "        264.6619862 ,  211.44771885,  300.62299438,  234.46878267,\n",
       "        274.9838488 ,  265.59486591,   89.17527553,  926.18      ,\n",
       "        234.41862785,  365.18559294,  306.46603128,  298.4061512 ,\n",
       "         67.83941377,   90.72004409,  257.04848405,  146.49722289,\n",
       "        552.84      ,  514.18724677,  294.35364149,  222.72753857,\n",
       "        444.04572662,  412.02387824,  298.23060932,  189.62033982,\n",
       "        526.62      ,  538.03      ,  750.57      ,  270.37462055,\n",
       "        534.44      ,  189.97142359,  455.99762097,  535.        ,\n",
       "        150.23375722,  202.73582607,  841.46      ,  230.99305343,\n",
       "        536.11      ,  611.88884224,  289.15258633,  276.35307547,\n",
       "        298.95283877,  444.92343602,  731.09      ,  878.93      ,\n",
       "        714.41      ,  149.32595492,  245.35739477,  198.929075  ,\n",
       "        179.39377139,  543.3       ,  258.16192112,  179.63953002,\n",
       "        254.68619188,  282.06069434,  224.54309302,  575.02      ,\n",
       "        301.49067282,  223.78580534,  327.15489582,  996.17      ,\n",
       "        258.31740107,  235.01547024,  266.85876745,  236.77088905,\n",
       "        392.42136717,  204.05489792,  294.47902855,  561.135     ,\n",
       "        829.23      ,  146.81319828,  150.56477905,  757.52      ,\n",
       "        355.93874882,  605.11      ,  116.92593917,  570.56      ,\n",
       "        429.03940354,  942.17      ,  255.86483022,  549.08      ,\n",
       "        202.3596649 ,  756.53      ,  255.28804975,  360.32228036,\n",
       "        298.36101186,  242.37819828,  398.76595229,  338.93124829,\n",
       "        791.34      ,  551.16      ,  732.19      ,  556.11      ,\n",
       "        203.4079007 , 1060.2       ,  256.49176551,  576.47953711,\n",
       "        191.08987614,  564.93      ,  149.89270442,  338.34443686,\n",
       "        707.26      ,  453.29929149,  231.60494227,  437.08925265,\n",
       "        165.48082345,  587.9       ,  196.34108612,  960.18      ,\n",
       "        580.75774352,  273.15319775,  283.02366695,  280.9673192 ,\n",
       "        216.68889787,  149.18050593,  605.19      ,  310.08219403,\n",
       "        936.86      ,  209.55186654,  308.5449487 ,  267.97220452,\n",
       "        429.78069182,  301.94206623,  341.95056865,  301.65618374,\n",
       "         90.47930093,  970.55      ,  807.05      ,  143.79387793,\n",
       "        268.35338118,  311.52665293,  590.54294951,  719.57      ,\n",
       "        129.11857668,  292.40763435,  439.97315498,  253.14643881,\n",
       "        219.63800147,  585.69      ,  544.65      ,  388.62464706,\n",
       "        220.60598956,  437.34002677,  358.73738795,  240.85349166,\n",
       "        429.25506928,  289.64911908,  777.85      ,  291.46973916,\n",
       "       1025.07      ,  504.01      ,  305.8942663 ,  444.42690327,\n",
       "        927.66      ,  190.16201191,  250.7941776 ,   94.69732156,\n",
       "         88.07186942,  186.2248583 ,  297.48831794,  200.05755852,\n",
       "        267.56093497,  671.68      ,  306.68169702,  275.58069119,\n",
       "        224.05162591,  288.35010916,  301.31011546,  253.28185683,\n",
       "        338.8158922 ,  348.70140784,  353.34574446,  284.88942637,\n",
       "        241.14438963,  154.82793902])"
      ]
     },
     "execution_count": 59,
     "metadata": {},
     "output_type": "execute_result"
    }
   ],
   "source": [
    "y_ts"
   ]
  },
  {
   "cell_type": "code",
   "execution_count": 72,
   "metadata": {},
   "outputs": [
    {
     "name": "stdout",
     "output_type": "stream",
     "text": [
      "[1576.3816829396108]\n"
     ]
    }
   ],
   "source": [
    "a=[]\n",
    "a.append(mean_squared_error(pr,y_ts))\n",
    "print(a)"
   ]
  },
  {
   "cell_type": "code",
   "execution_count": 64,
   "metadata": {},
   "outputs": [
    {
     "data": {
      "text/plain": [
       "0.9757581621875534"
      ]
     },
     "execution_count": 64,
     "metadata": {},
     "output_type": "execute_result"
    }
   ],
   "source": [
    "r2_score(y_ts,pr)"
   ]
  },
  {
   "cell_type": "code",
   "execution_count": 65,
   "metadata": {},
   "outputs": [
    {
     "data": {
      "text/plain": [
       "419.4192457985019"
      ]
     },
     "execution_count": 65,
     "metadata": {},
     "output_type": "execute_result"
    }
   ],
   "source": [
    "cls.intercept_"
   ]
  },
  {
   "cell_type": "code",
   "execution_count": 66,
   "metadata": {},
   "outputs": [
    {
     "data": {
      "text/plain": [
       "array([260.0787175 ,  -0.93984183,   0.30610529,  -3.23857833])"
      ]
     },
     "execution_count": 66,
     "metadata": {},
     "output_type": "execute_result"
    }
   ],
   "source": [
    "cls.coef_"
   ]
  },
  {
   "cell_type": "code",
   "execution_count": null,
   "metadata": {},
   "outputs": [],
   "source": []
  }
 ],
 "metadata": {
  "kernelspec": {
   "display_name": "Python 3",
   "language": "python",
   "name": "python3"
  },
  "language_info": {
   "codemirror_mode": {
    "name": "ipython",
    "version": 3
   },
   "file_extension": ".py",
   "mimetype": "text/x-python",
   "name": "python",
   "nbconvert_exporter": "python",
   "pygments_lexer": "ipython3",
   "version": "3.6.5"
  }
 },
 "nbformat": 4,
 "nbformat_minor": 4
}
