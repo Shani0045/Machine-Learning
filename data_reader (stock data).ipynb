{
 "cells": [
  {
   "cell_type": "code",
   "execution_count": 2,
   "metadata": {},
   "outputs": [],
   "source": [
    "import pandas as pd\n",
    "import pandas_datareader as dr"
   ]
  },
  {
   "cell_type": "code",
   "execution_count": 3,
   "metadata": {},
   "outputs": [
    {
     "ename": "ValueError",
     "evalue": "The Quandl API key must be provided either through the api_key variable or through the environmental variable QUANDL_API_KEY.",
     "output_type": "error",
     "traceback": [
      "\u001b[1;31m---------------------------------------------------------------------------\u001b[0m",
      "\u001b[1;31mValueError\u001b[0m                                Traceback (most recent call last)",
      "\u001b[1;32m<ipython-input-3-c7395cabb64f>\u001b[0m in \u001b[0;36m<module>\u001b[1;34m\u001b[0m\n\u001b[1;32m----> 1\u001b[1;33m \u001b[0mdf\u001b[0m\u001b[1;33m=\u001b[0m\u001b[0mdr\u001b[0m\u001b[1;33m.\u001b[0m\u001b[0mget_data_quandl\u001b[0m\u001b[1;33m(\u001b[0m\u001b[1;34m\"ibm\"\u001b[0m\u001b[1;33m)\u001b[0m\u001b[1;33m\u001b[0m\u001b[0m\n\u001b[0m",
      "\u001b[1;32mc:\\users\\hp\\appdata\\local\\programs\\python\\python36\\lib\\site-packages\\pandas_datareader\\data.py\u001b[0m in \u001b[0;36mget_data_quandl\u001b[1;34m(*args, **kwargs)\u001b[0m\n\u001b[0;32m    100\u001b[0m \u001b[1;33m\u001b[0m\u001b[0m\n\u001b[0;32m    101\u001b[0m \u001b[1;32mdef\u001b[0m \u001b[0mget_data_quandl\u001b[0m\u001b[1;33m(\u001b[0m\u001b[1;33m*\u001b[0m\u001b[0margs\u001b[0m\u001b[1;33m,\u001b[0m \u001b[1;33m**\u001b[0m\u001b[0mkwargs\u001b[0m\u001b[1;33m)\u001b[0m\u001b[1;33m:\u001b[0m\u001b[1;33m\u001b[0m\u001b[0m\n\u001b[1;32m--> 102\u001b[1;33m     \u001b[1;32mreturn\u001b[0m \u001b[0mQuandlReader\u001b[0m\u001b[1;33m(\u001b[0m\u001b[1;33m*\u001b[0m\u001b[0margs\u001b[0m\u001b[1;33m,\u001b[0m \u001b[1;33m**\u001b[0m\u001b[0mkwargs\u001b[0m\u001b[1;33m)\u001b[0m\u001b[1;33m.\u001b[0m\u001b[0mread\u001b[0m\u001b[1;33m(\u001b[0m\u001b[1;33m)\u001b[0m\u001b[1;33m\u001b[0m\u001b[0m\n\u001b[0m\u001b[0;32m    103\u001b[0m \u001b[1;33m\u001b[0m\u001b[0m\n\u001b[0;32m    104\u001b[0m \u001b[1;33m\u001b[0m\u001b[0m\n",
      "\u001b[1;32mc:\\users\\hp\\appdata\\local\\programs\\python\\python36\\lib\\site-packages\\pandas_datareader\\quandl.py\u001b[0m in \u001b[0;36m__init__\u001b[1;34m(self, symbols, start, end, retry_count, pause, session, chunksize, api_key)\u001b[0m\n\u001b[0;32m     64\u001b[0m         \u001b[1;32mif\u001b[0m \u001b[1;32mnot\u001b[0m \u001b[0mapi_key\u001b[0m \u001b[1;32mor\u001b[0m \u001b[1;32mnot\u001b[0m \u001b[0misinstance\u001b[0m\u001b[1;33m(\u001b[0m\u001b[0mapi_key\u001b[0m\u001b[1;33m,\u001b[0m \u001b[0mstr\u001b[0m\u001b[1;33m)\u001b[0m\u001b[1;33m:\u001b[0m\u001b[1;33m\u001b[0m\u001b[0m\n\u001b[0;32m     65\u001b[0m             raise ValueError(\n\u001b[1;32m---> 66\u001b[1;33m                 \u001b[1;34m\"The Quandl API key must be provided either \"\u001b[0m\u001b[1;33m\u001b[0m\u001b[0m\n\u001b[0m\u001b[0;32m     67\u001b[0m                 \u001b[1;34m\"through the api_key variable or through the \"\u001b[0m\u001b[1;33m\u001b[0m\u001b[0m\n\u001b[0;32m     68\u001b[0m                 \u001b[1;34m\"environmental variable QUANDL_API_KEY.\"\u001b[0m\u001b[1;33m\u001b[0m\u001b[0m\n",
      "\u001b[1;31mValueError\u001b[0m: The Quandl API key must be provided either through the api_key variable or through the environmental variable QUANDL_API_KEY."
     ]
    }
   ],
   "source": [
    "df=dr.get_data_quandl(\"ibm\",API)"
   ]
  },
  {
   "cell_type": "code",
   "execution_count": 3,
   "metadata": {},
   "outputs": [],
   "source": [
    "df=dr.get_data_yahoo('ibm',start='2018-09-27',end='2018-10-23')"
   ]
  },
  {
   "cell_type": "code",
   "execution_count": 4,
   "metadata": {},
   "outputs": [
    {
     "data": {
      "text/html": [
       "<div>\n",
       "<style scoped>\n",
       "    .dataframe tbody tr th:only-of-type {\n",
       "        vertical-align: middle;\n",
       "    }\n",
       "\n",
       "    .dataframe tbody tr th {\n",
       "        vertical-align: top;\n",
       "    }\n",
       "\n",
       "    .dataframe thead th {\n",
       "        text-align: right;\n",
       "    }\n",
       "</style>\n",
       "<table border=\"1\" class=\"dataframe\">\n",
       "  <thead>\n",
       "    <tr style=\"text-align: right;\">\n",
       "      <th></th>\n",
       "      <th>High</th>\n",
       "      <th>Low</th>\n",
       "      <th>Open</th>\n",
       "      <th>Close</th>\n",
       "      <th>Volume</th>\n",
       "      <th>Adj Close</th>\n",
       "    </tr>\n",
       "    <tr>\n",
       "      <th>Date</th>\n",
       "      <th></th>\n",
       "      <th></th>\n",
       "      <th></th>\n",
       "      <th></th>\n",
       "      <th></th>\n",
       "      <th></th>\n",
       "    </tr>\n",
       "  </thead>\n",
       "  <tbody>\n",
       "    <tr>\n",
       "      <th>2018-09-27</th>\n",
       "      <td>152.389999</td>\n",
       "      <td>151.160004</td>\n",
       "      <td>152.009995</td>\n",
       "      <td>151.500000</td>\n",
       "      <td>3477600</td>\n",
       "      <td>144.434143</td>\n",
       "    </tr>\n",
       "    <tr>\n",
       "      <th>2018-09-28</th>\n",
       "      <td>151.630005</td>\n",
       "      <td>150.789993</td>\n",
       "      <td>151.160004</td>\n",
       "      <td>151.210007</td>\n",
       "      <td>3305800</td>\n",
       "      <td>144.157669</td>\n",
       "    </tr>\n",
       "    <tr>\n",
       "      <th>2018-10-01</th>\n",
       "      <td>153.419998</td>\n",
       "      <td>151.710007</td>\n",
       "      <td>151.710007</td>\n",
       "      <td>153.000000</td>\n",
       "      <td>3757400</td>\n",
       "      <td>145.864166</td>\n",
       "    </tr>\n",
       "    <tr>\n",
       "      <th>2018-10-02</th>\n",
       "      <td>153.839996</td>\n",
       "      <td>152.500000</td>\n",
       "      <td>152.990005</td>\n",
       "      <td>153.750000</td>\n",
       "      <td>3029900</td>\n",
       "      <td>146.579178</td>\n",
       "    </tr>\n",
       "    <tr>\n",
       "      <th>2018-10-03</th>\n",
       "      <td>154.360001</td>\n",
       "      <td>152.800003</td>\n",
       "      <td>154.000000</td>\n",
       "      <td>153.220001</td>\n",
       "      <td>3315300</td>\n",
       "      <td>146.073898</td>\n",
       "    </tr>\n",
       "    <tr>\n",
       "      <th>2018-10-04</th>\n",
       "      <td>152.800003</td>\n",
       "      <td>150.360001</td>\n",
       "      <td>151.690002</td>\n",
       "      <td>151.309998</td>\n",
       "      <td>4237900</td>\n",
       "      <td>144.252991</td>\n",
       "    </tr>\n",
       "    <tr>\n",
       "      <th>2018-10-05</th>\n",
       "      <td>151.789993</td>\n",
       "      <td>147.869995</td>\n",
       "      <td>150.899994</td>\n",
       "      <td>149.029999</td>\n",
       "      <td>4602200</td>\n",
       "      <td>142.079330</td>\n",
       "    </tr>\n",
       "    <tr>\n",
       "      <th>2018-10-08</th>\n",
       "      <td>149.070007</td>\n",
       "      <td>147.179993</td>\n",
       "      <td>148.500000</td>\n",
       "      <td>148.389999</td>\n",
       "      <td>3239300</td>\n",
       "      <td>141.469162</td>\n",
       "    </tr>\n",
       "    <tr>\n",
       "      <th>2018-10-09</th>\n",
       "      <td>148.360001</td>\n",
       "      <td>146.929993</td>\n",
       "      <td>148.080002</td>\n",
       "      <td>147.240005</td>\n",
       "      <td>3642400</td>\n",
       "      <td>140.372818</td>\n",
       "    </tr>\n",
       "    <tr>\n",
       "      <th>2018-10-10</th>\n",
       "      <td>147.690002</td>\n",
       "      <td>142.500000</td>\n",
       "      <td>147.500000</td>\n",
       "      <td>142.690002</td>\n",
       "      <td>5547700</td>\n",
       "      <td>136.035004</td>\n",
       "    </tr>\n",
       "    <tr>\n",
       "      <th>2018-10-11</th>\n",
       "      <td>144.190002</td>\n",
       "      <td>138.779999</td>\n",
       "      <td>142.619995</td>\n",
       "      <td>139.020004</td>\n",
       "      <td>8710500</td>\n",
       "      <td>132.536179</td>\n",
       "    </tr>\n",
       "    <tr>\n",
       "      <th>2018-10-12</th>\n",
       "      <td>141.539993</td>\n",
       "      <td>139.080002</td>\n",
       "      <td>141.119995</td>\n",
       "      <td>140.850006</td>\n",
       "      <td>6563400</td>\n",
       "      <td>134.280838</td>\n",
       "    </tr>\n",
       "    <tr>\n",
       "      <th>2018-10-15</th>\n",
       "      <td>142.259995</td>\n",
       "      <td>140.139999</td>\n",
       "      <td>140.380005</td>\n",
       "      <td>141.130005</td>\n",
       "      <td>4965500</td>\n",
       "      <td>134.547791</td>\n",
       "    </tr>\n",
       "    <tr>\n",
       "      <th>2018-10-16</th>\n",
       "      <td>145.449997</td>\n",
       "      <td>141.580002</td>\n",
       "      <td>142.929993</td>\n",
       "      <td>145.119995</td>\n",
       "      <td>8695500</td>\n",
       "      <td>138.351685</td>\n",
       "    </tr>\n",
       "    <tr>\n",
       "      <th>2018-10-17</th>\n",
       "      <td>137.149994</td>\n",
       "      <td>133.419998</td>\n",
       "      <td>135.889999</td>\n",
       "      <td>134.050003</td>\n",
       "      <td>19464000</td>\n",
       "      <td>127.797989</td>\n",
       "    </tr>\n",
       "    <tr>\n",
       "      <th>2018-10-18</th>\n",
       "      <td>133.399994</td>\n",
       "      <td>130.039993</td>\n",
       "      <td>132.729996</td>\n",
       "      <td>130.550003</td>\n",
       "      <td>10011700</td>\n",
       "      <td>124.461220</td>\n",
       "    </tr>\n",
       "    <tr>\n",
       "      <th>2018-10-19</th>\n",
       "      <td>131.889999</td>\n",
       "      <td>127.959999</td>\n",
       "      <td>130.649994</td>\n",
       "      <td>129.100006</td>\n",
       "      <td>7791600</td>\n",
       "      <td>123.078857</td>\n",
       "    </tr>\n",
       "    <tr>\n",
       "      <th>2018-10-22</th>\n",
       "      <td>130.440002</td>\n",
       "      <td>128.399994</td>\n",
       "      <td>129.580002</td>\n",
       "      <td>130.020004</td>\n",
       "      <td>5719500</td>\n",
       "      <td>123.955940</td>\n",
       "    </tr>\n",
       "    <tr>\n",
       "      <th>2018-10-23</th>\n",
       "      <td>131.899994</td>\n",
       "      <td>128.410004</td>\n",
       "      <td>129.020004</td>\n",
       "      <td>131.210007</td>\n",
       "      <td>6463600</td>\n",
       "      <td>125.090446</td>\n",
       "    </tr>\n",
       "    <tr>\n",
       "      <th>2018-10-24</th>\n",
       "      <td>131.690002</td>\n",
       "      <td>127.000000</td>\n",
       "      <td>131.169998</td>\n",
       "      <td>127.209999</td>\n",
       "      <td>5710300</td>\n",
       "      <td>121.277000</td>\n",
       "    </tr>\n",
       "  </tbody>\n",
       "</table>\n",
       "</div>"
      ],
      "text/plain": [
       "                  High         Low        Open       Close    Volume  \\\n",
       "Date                                                                   \n",
       "2018-09-27  152.389999  151.160004  152.009995  151.500000   3477600   \n",
       "2018-09-28  151.630005  150.789993  151.160004  151.210007   3305800   \n",
       "2018-10-01  153.419998  151.710007  151.710007  153.000000   3757400   \n",
       "2018-10-02  153.839996  152.500000  152.990005  153.750000   3029900   \n",
       "2018-10-03  154.360001  152.800003  154.000000  153.220001   3315300   \n",
       "2018-10-04  152.800003  150.360001  151.690002  151.309998   4237900   \n",
       "2018-10-05  151.789993  147.869995  150.899994  149.029999   4602200   \n",
       "2018-10-08  149.070007  147.179993  148.500000  148.389999   3239300   \n",
       "2018-10-09  148.360001  146.929993  148.080002  147.240005   3642400   \n",
       "2018-10-10  147.690002  142.500000  147.500000  142.690002   5547700   \n",
       "2018-10-11  144.190002  138.779999  142.619995  139.020004   8710500   \n",
       "2018-10-12  141.539993  139.080002  141.119995  140.850006   6563400   \n",
       "2018-10-15  142.259995  140.139999  140.380005  141.130005   4965500   \n",
       "2018-10-16  145.449997  141.580002  142.929993  145.119995   8695500   \n",
       "2018-10-17  137.149994  133.419998  135.889999  134.050003  19464000   \n",
       "2018-10-18  133.399994  130.039993  132.729996  130.550003  10011700   \n",
       "2018-10-19  131.889999  127.959999  130.649994  129.100006   7791600   \n",
       "2018-10-22  130.440002  128.399994  129.580002  130.020004   5719500   \n",
       "2018-10-23  131.899994  128.410004  129.020004  131.210007   6463600   \n",
       "2018-10-24  131.690002  127.000000  131.169998  127.209999   5710300   \n",
       "\n",
       "             Adj Close  \n",
       "Date                    \n",
       "2018-09-27  144.434143  \n",
       "2018-09-28  144.157669  \n",
       "2018-10-01  145.864166  \n",
       "2018-10-02  146.579178  \n",
       "2018-10-03  146.073898  \n",
       "2018-10-04  144.252991  \n",
       "2018-10-05  142.079330  \n",
       "2018-10-08  141.469162  \n",
       "2018-10-09  140.372818  \n",
       "2018-10-10  136.035004  \n",
       "2018-10-11  132.536179  \n",
       "2018-10-12  134.280838  \n",
       "2018-10-15  134.547791  \n",
       "2018-10-16  138.351685  \n",
       "2018-10-17  127.797989  \n",
       "2018-10-18  124.461220  \n",
       "2018-10-19  123.078857  \n",
       "2018-10-22  123.955940  \n",
       "2018-10-23  125.090446  \n",
       "2018-10-24  121.277000  "
      ]
     },
     "execution_count": 4,
     "metadata": {},
     "output_type": "execute_result"
    }
   ],
   "source": [
    "df"
   ]
  },
  {
   "cell_type": "code",
   "execution_count": 5,
   "metadata": {},
   "outputs": [
    {
     "data": {
      "text/html": [
       "<div>\n",
       "<style scoped>\n",
       "    .dataframe tbody tr th:only-of-type {\n",
       "        vertical-align: middle;\n",
       "    }\n",
       "\n",
       "    .dataframe tbody tr th {\n",
       "        vertical-align: top;\n",
       "    }\n",
       "\n",
       "    .dataframe thead th {\n",
       "        text-align: right;\n",
       "    }\n",
       "</style>\n",
       "<table border=\"1\" class=\"dataframe\">\n",
       "  <thead>\n",
       "    <tr style=\"text-align: right;\">\n",
       "      <th></th>\n",
       "      <th>High</th>\n",
       "      <th>Low</th>\n",
       "      <th>Open</th>\n",
       "      <th>Close</th>\n",
       "      <th>Volume</th>\n",
       "      <th>Adj Close</th>\n",
       "    </tr>\n",
       "    <tr>\n",
       "      <th>Date</th>\n",
       "      <th></th>\n",
       "      <th></th>\n",
       "      <th></th>\n",
       "      <th></th>\n",
       "      <th></th>\n",
       "      <th></th>\n",
       "    </tr>\n",
       "  </thead>\n",
       "  <tbody>\n",
       "    <tr>\n",
       "      <th>2018-09-27</th>\n",
       "      <td>152.389999</td>\n",
       "      <td>151.160004</td>\n",
       "      <td>152.009995</td>\n",
       "      <td>151.500000</td>\n",
       "      <td>3477600</td>\n",
       "      <td>144.434143</td>\n",
       "    </tr>\n",
       "    <tr>\n",
       "      <th>2018-09-28</th>\n",
       "      <td>151.630005</td>\n",
       "      <td>150.789993</td>\n",
       "      <td>151.160004</td>\n",
       "      <td>151.210007</td>\n",
       "      <td>3305800</td>\n",
       "      <td>144.157669</td>\n",
       "    </tr>\n",
       "    <tr>\n",
       "      <th>2018-10-01</th>\n",
       "      <td>153.419998</td>\n",
       "      <td>151.710007</td>\n",
       "      <td>151.710007</td>\n",
       "      <td>153.000000</td>\n",
       "      <td>3757400</td>\n",
       "      <td>145.864166</td>\n",
       "    </tr>\n",
       "    <tr>\n",
       "      <th>2018-10-02</th>\n",
       "      <td>153.839996</td>\n",
       "      <td>152.500000</td>\n",
       "      <td>152.990005</td>\n",
       "      <td>153.750000</td>\n",
       "      <td>3029900</td>\n",
       "      <td>146.579178</td>\n",
       "    </tr>\n",
       "    <tr>\n",
       "      <th>2018-10-03</th>\n",
       "      <td>154.360001</td>\n",
       "      <td>152.800003</td>\n",
       "      <td>154.000000</td>\n",
       "      <td>153.220001</td>\n",
       "      <td>3315300</td>\n",
       "      <td>146.073898</td>\n",
       "    </tr>\n",
       "  </tbody>\n",
       "</table>\n",
       "</div>"
      ],
      "text/plain": [
       "                  High         Low        Open       Close   Volume  \\\n",
       "Date                                                                  \n",
       "2018-09-27  152.389999  151.160004  152.009995  151.500000  3477600   \n",
       "2018-09-28  151.630005  150.789993  151.160004  151.210007  3305800   \n",
       "2018-10-01  153.419998  151.710007  151.710007  153.000000  3757400   \n",
       "2018-10-02  153.839996  152.500000  152.990005  153.750000  3029900   \n",
       "2018-10-03  154.360001  152.800003  154.000000  153.220001  3315300   \n",
       "\n",
       "             Adj Close  \n",
       "Date                    \n",
       "2018-09-27  144.434143  \n",
       "2018-09-28  144.157669  \n",
       "2018-10-01  145.864166  \n",
       "2018-10-02  146.579178  \n",
       "2018-10-03  146.073898  "
      ]
     },
     "execution_count": 5,
     "metadata": {},
     "output_type": "execute_result"
    }
   ],
   "source": [
    "df.head()"
   ]
  },
  {
   "cell_type": "code",
   "execution_count": 6,
   "metadata": {},
   "outputs": [
    {
     "name": "stdout",
     "output_type": "stream",
     "text": [
      "<class 'pandas.core.frame.DataFrame'>\n",
      "DatetimeIndex: 20 entries, 2018-09-27 to 2018-10-24\n",
      "Data columns (total 6 columns):\n",
      "High         20 non-null float64\n",
      "Low          20 non-null float64\n",
      "Open         20 non-null float64\n",
      "Close        20 non-null float64\n",
      "Volume       20 non-null int64\n",
      "Adj Close    20 non-null float64\n",
      "dtypes: float64(5), int64(1)\n",
      "memory usage: 1.1 KB\n"
     ]
    }
   ],
   "source": [
    "df.info()"
   ]
  },
  {
   "cell_type": "code",
   "execution_count": 7,
   "metadata": {},
   "outputs": [],
   "source": [
    "import matplotlib.pyplot as plt"
   ]
  },
  {
   "cell_type": "code",
   "execution_count": 14,
   "metadata": {},
   "outputs": [
    {
     "data": {
      "text/plain": [
       "<matplotlib.axes._subplots.AxesSubplot at 0x213a0d520f0>"
      ]
     },
     "execution_count": 14,
     "metadata": {},
     "output_type": "execute_result"
    },
    {
     "data": {
      "image/png": "[encoded data removed]",
      "text/plain": [
       "<Figure size 1080x360 with 1 Axes>"
      ]
     },
     "metadata": {
      "needs_background": "light"
     },
     "output_type": "display_data"
    }
   ],
   "source": [
    "df['Close'].plot(figsize=(15,5))"
   ]
  },
  {
   "cell_type": "code",
   "execution_count": 15,
   "metadata": {},
   "outputs": [
    {
     "data": {
      "text/plain": [
       "<matplotlib.axes._subplots.AxesSubplot at 0x213a0dcd9b0>"
      ]
     },
     "execution_count": 15,
     "metadata": {},
     "output_type": "execute_result"
    },
    {
     "data": {
      "image/png": "[encoded data removed]",
      "text/plain": [
       "<Figure size 1080x360 with 1 Axes>"
      ]
     },
     "metadata": {
      "needs_background": "light"
     },
     "output_type": "display_data"
    }
   ],
   "source": [
    "df[['Open','Close']].plot(figsize=(15,5))"
   ]
  },
  {
   "cell_type": "code",
   "execution_count": 16,
   "metadata": {},
   "outputs": [
    {
     "data": {
      "text/plain": [
       "<matplotlib.axes._subplots.AxesSubplot at 0x213a0ff4f28>"
      ]
     },
     "execution_count": 16,
     "metadata": {},
     "output_type": "execute_result"
    },
    {
     "data": {
      "image/png": "[encoded data removed]",
      "text/plain": [
       "<Figure size 1080x360 with 1 Axes>"
      ]
     },
     "metadata": {
      "needs_background": "light"
     },
     "output_type": "display_data"
    }
   ],
   "source": [
    "df.loc['2018-10-01':'2018-10-05',['Open','Close']].plot(figsize=(15,5))"
   ]
  },
  {
   "cell_type": "code",
   "execution_count": 19,
   "metadata": {},
   "outputs": [
    {
     "data": {
      "text/plain": [
       "<matplotlib.axes._subplots.AxesSubplot at 0x213a10a6e80>"
      ]
     },
     "execution_count": 19,
     "metadata": {},
     "output_type": "execute_result"
    },
    {
     "data": {
      "image/png": "[encoded data removed]",
      "text/plain": [
       "<Figure size 432x288 with 1 Axes>"
      ]
     },
     "metadata": {
      "needs_background": "light"
     },
     "output_type": "display_data"
    }
   ],
   "source": [
    "df['Close'].pct_change().plot()"
   ]
  },
  {
   "cell_type": "code",
   "execution_count": null,
   "metadata": {},
   "outputs": [],
   "source": []
  }
 ],
 "metadata": {
  "kernelspec": {
   "display_name": "Python 3",
   "language": "python",
   "name": "python3"
  },
  "language_info": {
   "codemirror_mode": {
    "name": "ipython",
    "version": 3
   },
   "file_extension": ".py",
   "mimetype": "text/x-python",
   "name": "python",
   "nbconvert_exporter": "python",
   "pygments_lexer": "ipython3",
   "version": "3.6.5"
  }
 },
 "nbformat": 4,
 "nbformat_minor": 2
}
